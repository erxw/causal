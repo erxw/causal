{
 "cells": [
  {
   "cell_type": "markdown",
   "id": "horizontal-vision",
   "metadata": {},
   "source": [
    "# Propensity Score Matching Demo\n",
    "\n",
    "<br> A demonstration of Propensity Score matching (PSM). Given two groups (treated, untreated), build a pseudo-control group that has covariates balanced between the two groups. "
   ]
  },
  {
   "cell_type": "code",
   "execution_count": 1,
   "id": "progressive-syndication",
   "metadata": {},
   "outputs": [],
   "source": [
    "%matplotlib inline\n",
    "import pandas as pd\n",
    "import numpy as np\n",
    "import matplotlib.pyplot as plt\n",
    "import sys, os, importlib, warnings\n",
    "\n",
    "sys.path.insert(1, '../../src/')\n",
    "\n",
    "import causal\n",
    "from causal.PropensityScore import PropensityScore \n",
    "warnings.filterwarnings('ignore')"
   ]
  },
  {
   "cell_type": "markdown",
   "id": "grave-jonathan",
   "metadata": {},
   "source": [
    "## load metadata"
   ]
  },
  {
   "cell_type": "code",
   "execution_count": null,
   "id": "understanding-registrar",
   "metadata": {},
   "outputs": [],
   "source": [
    "foldername = '../../data/external/processed/metadata'\n",
    "filename = '114213_taxonomy_collapsed_table_noNorm_rf.txt'\n",
    "\n",
    "file_path = os.path.join(foldername, filename)\n",
    "df = pd.read_csv(file_path, delimiter = '\\t')\n",
    "df.head()"
   ]
  },
  {
   "cell_type": "markdown",
   "id": "downtown-butterfly",
   "metadata": {},
   "source": [
    "## split dataframe into treatment and control groups"
   ]
  },
  {
   "cell_type": "code",
   "execution_count": 3,
   "id": "elder-avenue",
   "metadata": {},
   "outputs": [],
   "source": [
    "covariates = ['age_years', 'bmi','weight_kg',]\n",
    "exact = ['sex', 'state']\n",
    "group_variable = 'asd'\n",
    "valid_values = {'untreat': 'I do not have this condition', \n",
    "                'treat': 'Diagnosed by a medical professional (doctor, physician assistant)'}"
   ]
  },
  {
   "cell_type": "code",
   "execution_count": 4,
   "id": "serious-stack",
   "metadata": {},
   "outputs": [
    {
     "ename": "NameError",
     "evalue": "name 'df' is not defined",
     "output_type": "error",
     "traceback": [
      "\u001b[1;31m---------------------------------------------------------------------------\u001b[0m",
      "\u001b[1;31mNameError\u001b[0m                                 Traceback (most recent call last)",
      "\u001b[1;32m<ipython-input-4-ec1b56233bd9>\u001b[0m in \u001b[0;36m<module>\u001b[1;34m\u001b[0m\n\u001b[0;32m      1\u001b[0m \u001b[1;31m# get the treatment and untreated groups\u001b[0m\u001b[1;33m\u001b[0m\u001b[1;33m\u001b[0m\u001b[1;33m\u001b[0m\u001b[0m\n\u001b[1;32m----> 2\u001b[1;33m \u001b[0mtreatment\u001b[0m \u001b[1;33m=\u001b[0m \u001b[0mdf\u001b[0m\u001b[1;33m[\u001b[0m\u001b[0mdf\u001b[0m\u001b[1;33m[\u001b[0m\u001b[0mgroup_variable\u001b[0m\u001b[1;33m]\u001b[0m \u001b[1;33m==\u001b[0m \u001b[0mvalid_values\u001b[0m\u001b[1;33m[\u001b[0m\u001b[1;34m'treat'\u001b[0m\u001b[1;33m]\u001b[0m\u001b[1;33m]\u001b[0m\u001b[1;33m\u001b[0m\u001b[1;33m\u001b[0m\u001b[0m\n\u001b[0m\u001b[0;32m      3\u001b[0m \u001b[0mnotreatment\u001b[0m \u001b[1;33m=\u001b[0m \u001b[0mdf\u001b[0m\u001b[1;33m[\u001b[0m\u001b[0mdf\u001b[0m\u001b[1;33m[\u001b[0m\u001b[0mgroup_variable\u001b[0m\u001b[1;33m]\u001b[0m \u001b[1;33m==\u001b[0m \u001b[0mvalid_values\u001b[0m\u001b[1;33m[\u001b[0m\u001b[1;34m'untreat'\u001b[0m\u001b[1;33m]\u001b[0m\u001b[1;33m]\u001b[0m\u001b[1;33m\u001b[0m\u001b[1;33m\u001b[0m\u001b[0m\n",
      "\u001b[1;31mNameError\u001b[0m: name 'df' is not defined"
     ]
    }
   ],
   "source": [
    "# get the treatment and untreated groups\n",
    "treatment = df[df[group_variable] == valid_values['treat']]\n",
    "notreatment = df[df[group_variable] == valid_values['untreat']]"
   ]
  },
  {
   "cell_type": "markdown",
   "id": "worst-wagon",
   "metadata": {},
   "source": [
    "## compute propensity scores and build pseudo-control group"
   ]
  },
  {
   "cell_type": "code",
   "execution_count": 58,
   "id": "smaller-relative",
   "metadata": {},
   "outputs": [
    {
     "name": "stdout",
     "output_type": "stream",
     "text": [
      "0 entries dropped.\n"
     ]
    }
   ],
   "source": [
    "import utils\n",
    "importlib.reload(utils.PropensityScore)\n",
    "from utils.PropensityScore import PropensityScore\n",
    "\n",
    "\"\"\"\n",
    " Parameters\n",
    " ----------\n",
    "     treatment: pd.DataFrame of treated group \n",
    "     notreatment: pd.DataFrame of untreated group\n",
    "     covariates: list of column headers to include as covariates (must be numeric)\n",
    "     exact: list of column headers that must have an exact match\n",
    "     \n",
    " Functions\n",
    " ---------\n",
    "     norm: applies normalization function to the dataframes. If None is given, apply unit mean, zero variance\n",
    "     \n",
    "     fit: calculates propensity score\n",
    "     \n",
    "     transform: matches treatment group from notreatment group with propensity score\n",
    "        returns\n",
    "        -------\n",
    "            treatment: pd.DataFrame treatment group\n",
    "            control: pd.DataFrame control group\n",
    "\n",
    "\"\"\"\n",
    "propensity = PropensityScore(treatment, notreatment, covariates, repeat = True)\n",
    "propensity.norm(f = None) # optional\n",
    "treatment, control = propensity.fit_transform()"
   ]
  },
  {
   "cell_type": "markdown",
   "id": "decent-basement",
   "metadata": {},
   "source": [
    "## verify that covariates are balanced between two groups\n",
    "#### plot"
   ]
  },
  {
   "cell_type": "code",
   "execution_count": 59,
   "id": "coated-kinase",
   "metadata": {},
   "outputs": [
    {
     "data": {
      "image/png": "[encoded data removed]",
      "text/plain": [
       "<Figure size 432x288 with 1 Axes>"
      ]
     },
     "metadata": {
      "needs_background": "light"
     },
     "output_type": "display_data"
    },
    {
     "data": {
      "image/png": "[encoded data removed]",
      "text/plain": [
       "<Figure size 432x288 with 1 Axes>"
      ]
     },
     "metadata": {
      "needs_background": "light"
     },
     "output_type": "display_data"
    },
    {
     "data": {
      "image/png": "[encoded data removed]",
      "text/plain": [
       "<Figure size 432x288 with 1 Axes>"
      ]
     },
     "metadata": {
      "needs_background": "light"
     },
     "output_type": "display_data"
    }
   ],
   "source": [
    "for covariate in covariates:\n",
    "    for d in [treatment, control]:\n",
    "        plt.hist(d[covariate], bins = 100, alpha = 0.5, density = True)\n",
    "    plt.title(covariate)\n",
    "    plt.show()    "
   ]
  },
  {
   "cell_type": "markdown",
   "id": "unlikely-knock",
   "metadata": {},
   "source": [
    "#### summary statistics"
   ]
  },
  {
   "cell_type": "code",
   "execution_count": 91,
   "id": "constant-covering",
   "metadata": {},
   "outputs": [
    {
     "data": {
      "text/plain": [
       "(        age_years          bmi   weight_kg\n",
       " count  456.000000   456.000000  456.000000\n",
       " mean    14.750877    36.045197   40.861586\n",
       " std     13.912439   211.338506   25.290165\n",
       " min      0.100000     0.390000    2.000000\n",
       " 25%      6.000000    15.600000   20.000000\n",
       " 50%     10.000000    17.980000   31.500000\n",
       " 75%     17.000000    22.120000   57.250000\n",
       " max     77.000000  2968.520000  129.000000,\n",
       "         age_years         bmi   weight_kg\n",
       " count  456.000000  456.000000  456.000000\n",
       " mean    14.732018   18.988355   41.442122\n",
       " std     13.949669    6.219972   24.119998\n",
       " min      0.000000    7.760000    9.000000\n",
       " 25%      6.000000   15.325000   20.000000\n",
       " 50%     10.000000   17.750000   36.000000\n",
       " 75%     17.250000   21.107500   58.000000\n",
       " max     76.000000  108.840000  117.000000)"
      ]
     },
     "execution_count": 91,
     "metadata": {},
     "output_type": "execute_result"
    }
   ],
   "source": [
    "treatment.describe()[covariates], control.describe()[covariates]"
   ]
  },
  {
   "cell_type": "markdown",
   "id": "sought-granny",
   "metadata": {},
   "source": [
    "#### representative data"
   ]
  },
  {
   "cell_type": "code",
   "execution_count": 83,
   "id": "entertaining-interstate",
   "metadata": {},
   "outputs": [
    {
     "data": {
      "text/plain": [
       "(         bmi  weight_kg  height_cm      sex age_years\n",
       " 20     13.61  18.000000     115.00     male         7\n",
       " 71     13.27  24.000000     134.00     male         9\n",
       " 152    16.88  31.000000     137.00     male        10\n",
       " 191    19.11  55.000000     170.00     male        18\n",
       " 211    16.24  14.000000      96.00     male       5.0\n",
       " ...      ...        ...        ...      ...       ...\n",
       " 29193  19.83  29.000000     121.00     male         5\n",
       " 29196  22.96  78.000000     185.00     male        23\n",
       " 29203  14.06  22.000000     127.00     male         6\n",
       " 29227  22.87  66.000000     170.00     male        14\n",
       " 29595  16.60  37.194619     149.86  unknown      12.3\n",
       " \n",
       " [460 rows x 5 columns],\n",
       "          bmi  weight_kg  height_cm      sex age_years\n",
       " 25281  13.44  20.000000     122.00     male         7\n",
       " 5834   14.30  24.000000     132.00     male         9\n",
       " 7657   17.52  31.000000     134.00     male        10\n",
       " 26969  19.96  55.000000     166.00     male        18\n",
       " 4065   12.55  14.000000     109.00     male       5.0\n",
       " ...      ...        ...        ...      ...       ...\n",
       " 25912  19.28  23.000000     109.00     male         5\n",
       " 18298  23.06  77.000000     182.00     male        23\n",
       " 11162  15.28  22.000000     120.00     male         6\n",
       " 26147  19.25  62.000000     180.00     male        14\n",
       " 29509  17.90  47.173663     162.56  unknown      12.3\n",
       " \n",
       " [460 rows x 5 columns])"
      ]
     },
     "execution_count": 83,
     "metadata": {},
     "output_type": "execute_result"
    }
   ],
   "source": [
    "treatment[covariates + exact], control[covariates + exact]"
   ]
  },
  {
   "cell_type": "markdown",
   "id": "eastern-distributor",
   "metadata": {},
   "source": [
    "## check model coefficients "
   ]
  },
  {
   "cell_type": "code",
   "execution_count": 84,
   "id": "close-delivery",
   "metadata": {},
   "outputs": [
    {
     "name": "stdout",
     "output_type": "stream",
     "text": [
      "bmi -0.007866829358968014\n",
      "weight_kg -1.5070625978940262\n",
      "height_cm 0.017881267680723387\n"
     ]
    }
   ],
   "source": [
    "for i, covariate in enumerate(covariates):\n",
    "    print(covariate, propensity.model.coef_[0, i])"
   ]
  },
  {
   "cell_type": "markdown",
   "id": "widespread-crack",
   "metadata": {},
   "source": [
    "## evaluate ML"
   ]
  },
  {
   "cell_type": "code",
   "execution_count": 8,
   "id": "operating-catalog",
   "metadata": {},
   "outputs": [],
   "source": [
    "%matplotlib inline\n",
    "import pandas as pd\n",
    "import numpy as np\n",
    "import matplotlib.pyplot as plt\n",
    "import sys, os, importlib, warnings\n",
    "\n",
    "sys.path.insert(1, '../../src/')\n",
    "\n",
    "warnings.filterwarnings('ignore')\n",
    "\n",
    "from sklearn import preprocessing\n",
    "from sklearn.model_selection import train_test_split\n",
    "\n",
    "from sklearn.metrics import balanced_accuracy_score\n",
    "from sklearn.metrics import precision_score\n",
    "from sklearn.metrics import recall_score\n",
    "from sklearn.metrics import classification_report\n",
    "\n",
    "\n",
    "from sklearn import ensemble\n",
    "from scipy.stats import randint\n"
   ]
  },
  {
   "cell_type": "code",
   "execution_count": 9,
   "id": "lesser-control",
   "metadata": {},
   "outputs": [],
   "source": [
    "# define the metrics used \n",
    "metrics = {'Accuracy': balanced_accuracy_score,\n",
    "          'Precision': precision_score,\n",
    "          'Report': classification_report,\n",
    "          'Recall': recall_score,}"
   ]
  },
  {
   "cell_type": "code",
   "execution_count": 10,
   "id": "average-murder",
   "metadata": {},
   "outputs": [],
   "source": [
    "# parameters for random search\n",
    "xgb_parameters = {\"n_estimators\": [100, 250, 500, 1000],\n",
    "             \"learning_rate\": [1, 0.1, 0.01],\n",
    "             \"max_depth\": [1, 2],\n",
    "             \"random_state\": [0]}\n",
    "\n",
    "rf_parameters = {\"max_depth\": [3, None],\n",
    "                     \"bootstrap\": [True, False],\n",
    "                     \"criterion\": [\"gini\", \"entropy\"],\n",
    "                     \"class_weight\": [\"balanced\"],\n",
    "                     \"n_estimators\": [100, 250, 500, 1000]}"
   ]
  },
  {
   "cell_type": "code",
   "execution_count": 15,
   "id": "tropical-planner",
   "metadata": {},
   "outputs": [
    {
     "data": {
      "text/plain": [
       "(Int64Index([   20,    71,   152,   191,   211,   284,   310,   320,   336,\n",
       "               375,\n",
       "             ...\n",
       "             29068, 29109, 29156, 29157, 29187, 29193, 29196, 29203, 29227,\n",
       "             29595],\n",
       "            dtype='int64', length=460),\n",
       " Int64Index([25281,  5834,  7657, 26969,  4065,  1148,   757, 15365,  6791,\n",
       "             15493,\n",
       "             ...\n",
       "             14531, 16579, 17457, 24206, 11393, 25912, 18298, 11162, 26147,\n",
       "             29509],\n",
       "            dtype='int64', length=460))"
      ]
     },
     "execution_count": 15,
     "metadata": {},
     "output_type": "execute_result"
    }
   ],
   "source": [
    "treatment.index, control.index"
   ]
  },
  {
   "cell_type": "code",
   "execution_count": null,
   "id": "respiratory-treaty",
   "metadata": {},
   "outputs": [],
   "source": []
  }
 ],
 "metadata": {
  "kernelspec": {
   "display_name": "Python 3",
   "language": "python",
   "name": "python3"
  },
  "language_info": {
   "codemirror_mode": {
    "name": "ipython",
    "version": 3
   },
   "file_extension": ".py",
   "mimetype": "text/x-python",
   "name": "python",
   "nbconvert_exporter": "python",
   "pygments_lexer": "ipython3",
   "version": "3.8.8"
  }
 },
 "nbformat": 4,
 "nbformat_minor": 5
}
